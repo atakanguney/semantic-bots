{
 "cells": [
  {
   "cell_type": "code",
   "execution_count": null,
   "metadata": {},
   "outputs": [],
   "source": [
    "import requests\n",
    "from bs4 import BeautifulSoup\n",
    "\n",
    "import pickle"
   ]
  },
  {
   "cell_type": "code",
   "execution_count": null,
   "metadata": {},
   "outputs": [],
   "source": [
    "def get_topics(r):\n",
    "    source = BeautifulSoup(r.content,\"lxml\")\n",
    "    links = source.find(\"section\", attrs={\"id\":\"content-body\"}).ul.select('a')\n",
    "        \n",
    "    return [link.get(\"href\").split(\"?\")[0] for link in links]"
   ]
  },
  {
   "cell_type": "code",
   "execution_count": null,
   "metadata": {},
   "outputs": [],
   "source": [
    "headers = {\n",
    "        \"User-Agent\": \"Mozilla/5.0 (Macintosh; Intel Mac OS X x.y; rv:42.0) Gecko/20100101 Firefox/42.0\",\n",
    "        \"Accept\": \"*/*\",\n",
    "        \"Cache-Control\": \"no-cache\",\n",
    "        \"Host\": \"eksisozluk.com\",\n",
    "        \"Accept-Encoding\": \"gzip, deflate\",\n",
    "        \"Cookie\": 'sticky_id=82a3c316ed3e3d8a1e5076a1756ad1e5; iq=1587d92381ec4a4282ee1fa14b725c53; ASP.NET_SessionId=u4pyawwvmp00g3td5xhv43io; channel-filter-preference-cookie=[{\"Id\":1,\"Pref\":true},{\"Id\":2,\"Pref\":true},{\"Id\":11,\"Pref\":false}]',\n",
    "        \"Connection\": \"keep-alive\",\n",
    "    }"
   ]
  },
  {
   "cell_type": "code",
   "execution_count": null,
   "metadata": {},
   "outputs": [],
   "source": [
    "def get_channel(channel):\n",
    "    topics = []\n",
    "    p = 1\n",
    "    while True:\n",
    "        r = requests.get(\"https://eksisozluk.com{}?p={}\".format(channel, p), headers=headers)\n",
    "        p += 1\n",
    "        links = get_topics(r)\n",
    "        if not links:\n",
    "            break\n",
    "\n",
    "        topics.extend(links)\n",
    "    \n",
    "    return topics"
   ]
  },
  {
   "cell_type": "code",
   "execution_count": null,
   "metadata": {},
   "outputs": [],
   "source": [
    "r = requests.get(\"https://eksisozluk.com/kanallar\", headers=headers)\n",
    "source = BeautifulSoup(r.content,\"lxml\")"
   ]
  },
  {
   "cell_type": "code",
   "execution_count": null,
   "metadata": {},
   "outputs": [],
   "source": [
    "links = source.find(\"ul\", attrs={\"id\": \"channel-follow-list\"}).select('a[href^=\"/basliklar\"]')\n",
    "\n",
    "links = [link.get(\"href\") for link in links]\n",
    "\n",
    "links.append(\"/basliklar/basiboslar\")"
   ]
  },
  {
   "cell_type": "code",
   "execution_count": null,
   "metadata": {},
   "outputs": [],
   "source": [
    "links"
   ]
  },
  {
   "cell_type": "code",
   "execution_count": null,
   "metadata": {},
   "outputs": [],
   "source": [
    "all_titles = []\n",
    "\n",
    "for baslik in links:\n",
    "    topics = get_channel(baslik)\n",
    "    all_titles.extend(topics)"
   ]
  },
  {
   "cell_type": "code",
   "execution_count": null,
   "metadata": {},
   "outputs": [],
   "source": [
    "all_titles"
   ]
  },
  {
   "cell_type": "code",
   "execution_count": null,
   "metadata": {},
   "outputs": [],
   "source": [
    "all_links = [\"https://eksisozluk.com{}?a=nice\".format(link) for link in all_titles]"
   ]
  },
  {
   "cell_type": "code",
   "execution_count": null,
   "metadata": {},
   "outputs": [],
   "source": [
    "with open(\"titles.pkl\", \"wb\") as fp:\n",
    "    pickle.dump(all_links, fp)"
   ]
  }
 ],
 "metadata": {
  "kernelspec": {
   "display_name": "Python 3",
   "language": "python",
   "name": "python3"
  },
  "language_info": {
   "codemirror_mode": {
    "name": "ipython",
    "version": 3
   },
   "file_extension": ".py",
   "mimetype": "text/x-python",
   "name": "python",
   "nbconvert_exporter": "python",
   "pygments_lexer": "ipython3",
   "version": "3.7.3"
  }
 },
 "nbformat": 4,
 "nbformat_minor": 2
}
